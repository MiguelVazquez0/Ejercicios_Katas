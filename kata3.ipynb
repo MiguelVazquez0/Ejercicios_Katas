{
 "cells": [
  {
   "cell_type": "markdown",
   "metadata": {},
   "source": [
    "Kata 3"
   ]
  },
  {
   "cell_type": "markdown",
   "metadata": {},
   "source": [
    "Ejercicio 1: Hacer un anuncio de advertencia si un asteroide se acerca a la tierra a una velocidad de mas de 25 k/s."
   ]
  },
  {
   "cell_type": "code",
   "execution_count": 4,
   "metadata": {},
   "outputs": [
    {
     "name": "stdout",
     "output_type": "stream",
     "text": [
      "Un asteroide se acerca a 49k/s\n"
     ]
    }
   ],
   "source": [
    "vel_asteroide = 49\n",
    "\n",
    "if vel_asteroide >= 25:\n",
    "    print (\"Un asteroide se acerca a \" + str(vel_asteroide) + \"k/s\")\n",
    "else:\n",
    "    print(\"No hay ningun problema\")"
   ]
  },
  {
   "cell_type": "markdown",
   "metadata": {},
   "source": [
    "Ejercicio 2: "
   ]
  },
  {
   "cell_type": "code",
   "execution_count": 6,
   "metadata": {},
   "outputs": [
    {
     "name": "stdout",
     "output_type": "stream",
     "text": [
      "Debido al asteroide se podra ver un rayo de luz desde la tierra\n"
     ]
    }
   ],
   "source": [
    "vel_asteroide = 22\n",
    "\n",
    "if vel_asteroide >= 25:\n",
    "    print (\"Un asteroide se acerca a \" + str(vel_asteroide) + \"k/s\")\n",
    "elif vel_asteroide >= 20 and vel_asteroide < 25:\n",
    "    print (\"Debido al asteroide se podra ver un rayo de luz desde la tierra\")\n",
    "else:\n",
    "    print(\"No hay ningun problema\")"
   ]
  },
  {
   "cell_type": "markdown",
   "metadata": {},
   "source": [
    "Ejercicio 3:"
   ]
  },
  {
   "cell_type": "code",
   "execution_count": 18,
   "metadata": {},
   "outputs": [
    {
     "name": "stdout",
     "output_type": "stream",
     "text": [
      "Moriremos todos... :c\n"
     ]
    }
   ],
   "source": [
    "vel_asteroide = 25\n",
    "tamaño = 1000\n",
    "if vel_asteroide >= 25 and tamaño < 25:\n",
    "    print (\"Un asteroide se acerca a \" + str(vel_asteroide) + \"k/s pero no hay de que preocuparse ya que es muy pequeño\")\n",
    "elif vel_asteroide >= 25 and tamaño >= 25:\n",
    "    print (\"Moriremos todos... :c\")\n",
    "elif vel_asteroide >= 20 and vel_asteroide < 25:\n",
    "    print (\"Debido al asteroide se podra ver un rayo de luz desde la tierra\")\n",
    "else:\n",
    "    print(\"No hay ningun problema\")"
   ]
  }
 ],
 "metadata": {
  "interpreter": {
   "hash": "125b352e17fdd4f84e5a074fa6f16219865d30c3bec5069736267e7919b65319"
  },
  "kernelspec": {
   "display_name": "Python 3.9.10 64-bit (windows store)",
   "language": "python",
   "name": "python3"
  },
  "language_info": {
   "codemirror_mode": {
    "name": "ipython",
    "version": 3
   },
   "file_extension": ".py",
   "mimetype": "text/x-python",
   "name": "python",
   "nbconvert_exporter": "python",
   "pygments_lexer": "ipython3",
   "version": "3.9.10"
  },
  "orig_nbformat": 4
 },
 "nbformat": 4,
 "nbformat_minor": 2
}
