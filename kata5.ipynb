{
 "cells": [
  {
   "cell_type": "markdown",
   "metadata": {},
   "source": [
    "Kata 5"
   ]
  },
  {
   "cell_type": "markdown",
   "metadata": {},
   "source": [
    "Ejercicio 1 - Operadores Aritmeticos"
   ]
  },
  {
   "cell_type": "code",
   "execution_count": 1,
   "metadata": {},
   "outputs": [],
   "source": [
    "tierra = 149597870 #en km\n",
    "jupiter = 778547200 #en km"
   ]
  },
  {
   "cell_type": "code",
   "execution_count": 3,
   "metadata": {},
   "outputs": [
    {
     "name": "stdout",
     "output_type": "stream",
     "text": [
      "628949330\n",
      "390577533.93\n"
     ]
    }
   ],
   "source": [
    "resultado = jupiter - tierra\n",
    "print(resultado)\n",
    "millas = 0.621\n",
    "conversion = resultado * millas\n",
    "\n",
    "print (conversion)"
   ]
  },
  {
   "cell_type": "markdown",
   "metadata": {},
   "source": [
    "Ejercicio 2"
   ]
  },
  {
   "cell_type": "code",
   "execution_count": 4,
   "metadata": {},
   "outputs": [],
   "source": [
    "planeta_1 = input(\"A qué distancia está el planeta 1? \")\t#57900000\n",
    "planeta_2 = input(\"A qué distancia esta el planeta 2? \") #108200000"
   ]
  },
  {
   "cell_type": "code",
   "execution_count": 5,
   "metadata": {},
   "outputs": [],
   "source": [
    "planeta_1 = int(planeta_1)\n",
    "planeta_2 = int(planeta_2)"
   ]
  },
  {
   "cell_type": "code",
   "execution_count": 7,
   "metadata": {},
   "outputs": [
    {
     "name": "stdout",
     "output_type": "stream",
     "text": [
      "La distancia entre los dos planetas (Km) es: 50300000\n",
      "La distancia entre los dos planetas (mi) es: 31236300.0\n"
     ]
    }
   ],
   "source": [
    "diferecia = planeta_1 - planeta_2\n",
    "diferecia = abs(diferecia)\n",
    "print(\"La distancia entre los dos planetas (Km) es: \" + str(diferecia))\n",
    "\n",
    "dif_millas = diferecia * 0.621\n",
    "dif_millas = abs(dif_millas)\n",
    "print(\"La distancia entre los dos planetas (mi) es: \" + str(dif_millas))"
   ]
  }
 ],
 "metadata": {
  "interpreter": {
   "hash": "125b352e17fdd4f84e5a074fa6f16219865d30c3bec5069736267e7919b65319"
  },
  "kernelspec": {
   "display_name": "Python 3.9.10 64-bit (windows store)",
   "language": "python",
   "name": "python3"
  },
  "language_info": {
   "codemirror_mode": {
    "name": "ipython",
    "version": 3
   },
   "file_extension": ".py",
   "mimetype": "text/x-python",
   "name": "python",
   "nbconvert_exporter": "python",
   "pygments_lexer": "ipython3",
   "version": "3.9.10"
  },
  "orig_nbformat": 4
 },
 "nbformat": 4,
 "nbformat_minor": 2
}
